{
 "cells": [
  {
   "cell_type": "code",
   "execution_count": 1,
   "id": "65492765-e107-476e-8c5f-776b1ed8e55a",
   "metadata": {},
   "outputs": [
    {
     "name": "stdout",
     "output_type": "stream",
     "text": [
      "The dataset has 1009 rows and 7 columns.\n"
     ]
    }
   ],
   "source": [
    "import pandas as pd\n",
    "file_path = r\"C:\\Users\\SRINI\\Downloads\\archive (5)\\NFLX.csv\"\n",
    "df = pd.read_csv(file_path)\n",
    "num_rows, num_columns = df.shape\n",
    "print(f\"The dataset has {num_rows} rows and {num_columns} columns.\")"
   ]
  },
  {
   "cell_type": "code",
   "execution_count": 13,
   "id": "699cfde6-343c-4030-84dc-013acac5fefe",
   "metadata": {},
   "outputs": [
    {
     "name": "stdout",
     "output_type": "stream",
     "text": [
      "Index(['Date', 'Open', 'High', 'Low', 'Close', 'Adj Close', 'Volume'], dtype='object')\n"
     ]
    }
   ],
   "source": [
    "import pandas as pd\n",
    "import numpy as np\n",
    "from sklearn.model_selection import train_test_split\n",
    "from tensorflow.keras.models import Sequential\n",
    "from tensorflow.keras.layers import Dense\n",
    "file_path = r\"C:\\Users\\SRINI\\Downloads\\archive (5)\\NFLX.csv\" \n",
    "df = pd.read_csv(file_path)\n",
    "print(df.columns)"
   ]
  },
  {
   "cell_type": "code",
   "execution_count": 24,
   "id": "2b452817-6722-45b9-8345-9970b6852812",
   "metadata": {},
   "outputs": [
    {
     "name": "stdout",
     "output_type": "stream",
     "text": [
      "Epoch 1/10\n",
      "26/26 [==============================] - 2s 24ms/step - loss: 1.6096 - accuracy: 0.1834 - val_loss: 1.6096 - val_accuracy: 0.1782\n",
      "Epoch 2/10\n",
      "26/26 [==============================] - 0s 5ms/step - loss: 1.6094 - accuracy: 0.2032 - val_loss: 1.6097 - val_accuracy: 0.1931\n",
      "Epoch 3/10\n",
      "26/26 [==============================] - 0s 5ms/step - loss: 1.6094 - accuracy: 0.2020 - val_loss: 1.6097 - val_accuracy: 0.1931\n",
      "Epoch 4/10\n",
      "26/26 [==============================] - 0s 4ms/step - loss: 1.6094 - accuracy: 0.1983 - val_loss: 1.6097 - val_accuracy: 0.1782\n",
      "Epoch 5/10\n",
      "26/26 [==============================] - 0s 5ms/step - loss: 1.6095 - accuracy: 0.2057 - val_loss: 1.6098 - val_accuracy: 0.1782\n",
      "Epoch 6/10\n",
      "26/26 [==============================] - 0s 5ms/step - loss: 1.6094 - accuracy: 0.2057 - val_loss: 1.6099 - val_accuracy: 0.1782\n",
      "Epoch 7/10\n",
      "26/26 [==============================] - 0s 5ms/step - loss: 1.6095 - accuracy: 0.2057 - val_loss: 1.6101 - val_accuracy: 0.1782\n",
      "Epoch 8/10\n",
      "26/26 [==============================] - 0s 5ms/step - loss: 1.6094 - accuracy: 0.2057 - val_loss: 1.6100 - val_accuracy: 0.1782\n",
      "Epoch 9/10\n",
      "26/26 [==============================] - 0s 4ms/step - loss: 1.6094 - accuracy: 0.2057 - val_loss: 1.6098 - val_accuracy: 0.1782\n",
      "Epoch 10/10\n",
      "26/26 [==============================] - 0s 4ms/step - loss: 1.6094 - accuracy: 0.2057 - val_loss: 1.6100 - val_accuracy: 0.1782\n",
      "7/7 [==============================] - 0s 2ms/step - loss: 1.6100 - accuracy: 0.1782\n",
      "Accuracy: 0.1782\n"
     ]
    }
   ],
   "source": [
    "import pandas as pd\n",
    "import numpy as np\n",
    "from sklearn.model_selection import train_test_split\n",
    "from sklearn.metrics import classification_report, confusion_matrix\n",
    "from sklearn.preprocessing import LabelEncoder\n",
    "import matplotlib.pyplot as plt\n",
    "import seaborn as sns\n",
    "from tensorflow.keras.models import Sequential\n",
    "from tensorflow.keras.layers import Dense\n",
    "import warnings\n",
    "warnings.filterwarnings(\"ignore\", category=UserWarning, module=\"sklearn\")\n",
    "file_path =r\"C:\\Users\\SRINI\\Downloads\\archive (5)\\NFLX.csv\" \n",
    "df = pd.read_csv(file_path)\n",
    "target_column = 'Low'\n",
    "if target_column not in df.columns:\n",
    "    raise ValueError(f\"The specified target column '{target_column}' is not present in the dataset.\")\n",
    "df_numeric = df.apply(pd.to_numeric, errors='coerce')\n",
    "df_numeric.fillna(df_numeric.mean(), inplace=True)\n",
    "num_bins = 5 \n",
    "df_numeric['target_class'] = pd.qcut(df_numeric[target_column], q=num_bins, labels=False)\n",
    "X = df_numeric.drop([target_column, 'target_class'], axis=1) \n",
    "y = df_numeric['target_class'] \n",
    "X_train, X_test, y_train, y_test = train_test_split(X, y, test_size=0.2, random_state=42)\n",
    "model = Sequential([\n",
    "    Dense(64, activation='relu', input_shape=(X_train.shape[1],)),\n",
    "    Dense(num_bins, activation='softmax') \n",
    "])\n",
    "model.compile(optimizer='adam', loss='sparse_categorical_crossentropy', metrics=['accuracy'])\n",
    "num_epochs = 10 \n",
    "model.fit(X_train, y_train, epochs=num_epochs, validation_data=(X_test, y_test))\n",
    "_, accuracy = model.evaluate(X_test, y_test)\n",
    "print(f\"Accuracy: {accuracy:.4f}\")"
   ]
  },
  {
   "cell_type": "code",
   "execution_count": 23,
   "id": "b61bd24a-fc8f-4459-ac55-4181c9c5a452",
   "metadata": {},
   "outputs": [
    {
     "name": "stdout",
     "output_type": "stream",
     "text": [
      "7/7 [==============================] - 0s 3ms/step\n",
      "Classification Report:\n",
      "               precision    recall  f1-score   support\n",
      "\n",
      "           0       0.00      0.00      0.00        40\n",
      "           1       0.00      0.00      0.00        43\n",
      "           2       0.00      0.00      0.00        44\n",
      "           3       0.18      1.00      0.30        36\n",
      "           4       0.00      0.00      0.00        39\n",
      "\n",
      "    accuracy                           0.18       202\n",
      "   macro avg       0.04      0.20      0.06       202\n",
      "weighted avg       0.03      0.18      0.05       202\n",
      "\n"
     ]
    },
    {
     "data": {
      "image/png": "[encoded data removed]",
      "text/plain": [
       "<Figure size 800x600 with 1 Axes>"
      ]
     },
     "metadata": {},
     "output_type": "display_data"
    }
   ],
   "source": [
    "y_pred_prob = model.predict(X_test)\n",
    "y_pred = np.argmax(y_pred_prob, axis=1)  \n",
    "with warnings.catch_warnings():\n",
    "    warnings.simplefilter(\"ignore\")\n",
    "    class_report = classification_report(y_test, y_pred)\n",
    "    print(\"Classification Report:\\n\", class_report)\n",
    "conf_matrix = confusion_matrix(y_test, y_pred)\n",
    "plt.figure(figsize=(8, 6))\n",
    "plt.bar(range(num_bins), conf_matrix.sum(axis=0), label='Actual', color='blue', alpha=0.7)\n",
    "plt.bar(range(num_bins), conf_matrix.sum(axis=1), label='Predicted', color='orange', alpha=0.7)\n",
    "plt.xticks(range(num_bins), labels=[f'Class {i}' for i in range(num_bins)])\n",
    "plt.xlabel('Classes')\n",
    "plt.ylabel('Count')\n",
    "plt.title('Confusion Matrix - Bar Plot')\n",
    "plt.legend()\n",
    "plt.show()"
   ]
  },
  {
   "cell_type": "code",
   "execution_count": 27,
   "id": "8b8eef32-9628-428e-ac20-ff82439ef4d2",
   "metadata": {},
   "outputs": [
    {
     "name": "stdout",
     "output_type": "stream",
     "text": [
      "1/1 [==============================] - 0s 56ms/step\n",
      "Sample Input:\n",
      "     Date        Open        High       Close   Adj Close   Volume\n",
      "628   NaN  498.649994  510.440002  509.640015  509.640015  5608000\n",
      "\n",
      "Predicted Probabilities:\n",
      "[[0.19934256 0.19959202 0.1977679  0.2027734  0.20052408]]\n",
      "\n",
      "Predicted Class:\n",
      "3\n"
     ]
    }
   ],
   "source": [
    "sample_input = X_test.iloc[0:1]  \n",
    "prediction_probabilities = model.predict(sample_input)\n",
    "predicted_class = np.argmax(prediction_probabilities, axis=1)[0]\n",
    "print(\"Sample Input:\")\n",
    "print(sample_input)\n",
    "print(\"\\nPredicted Probabilities:\")\n",
    "print(prediction_probabilities)\n",
    "print(\"\\nPredicted Class:\")\n",
    "print(predicted_class)"
   ]
  },
  {
   "cell_type": "code",
   "execution_count": null,
   "id": "28d639ae-a1c3-410b-9b79-9442684ecb1d",
   "metadata": {},
   "outputs": [],
   "source": []
  }
 ],
 "metadata": {
  "kernelspec": {
   "display_name": "Python 3 (ipykernel)",
   "language": "python",
   "name": "python3"
  },
  "language_info": {
   "codemirror_mode": {
    "name": "ipython",
    "version": 3
   },
   "file_extension": ".py",
   "mimetype": "text/x-python",
   "name": "python",
   "nbconvert_exporter": "python",
   "pygments_lexer": "ipython3",
   "version": "3.11.5"
  }
 },
 "nbformat": 4,
 "nbformat_minor": 5
}
